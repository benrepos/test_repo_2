{
 "cells": [
  {
   "cell_type": "code",
   "execution_count": 1,
   "id": "6d52e2c7-30cf-44fc-b247-735fe933e4fa",
   "metadata": {},
   "outputs": [
    {
     "name": "stdout",
     "output_type": "stream",
     "text": [
      "Requirement already satisfied: textpack in /Users/ben.drury/opt/anaconda3/lib/python3.9/site-packages (0.0.7)\n",
      "\u001b[33mWARNING: Retrying (Retry(total=4, connect=None, read=None, redirect=None, status=None)) after connection broken by 'SSLError(SSLCertVerificationError(1, '[SSL: CERTIFICATE_VERIFY_FAILED] certificate verify failed: unable to get local issuer certificate (_ssl.c:1129)'))': /simple/textpack/\u001b[0m\u001b[33m\n",
      "\u001b[0m\u001b[33mWARNING: Retrying (Retry(total=3, connect=None, read=None, redirect=None, status=None)) after connection broken by 'SSLError(SSLCertVerificationError(1, '[SSL: CERTIFICATE_VERIFY_FAILED] certificate verify failed: unable to get local issuer certificate (_ssl.c:1129)'))': /simple/textpack/\u001b[0m\u001b[33m\n",
      "\u001b[0m\u001b[33mWARNING: Retrying (Retry(total=2, connect=None, read=None, redirect=None, status=None)) after connection broken by 'SSLError(SSLCertVerificationError(1, '[SSL: CERTIFICATE_VERIFY_FAILED] certificate verify failed: unable to get local issuer certificate (_ssl.c:1129)'))': /simple/textpack/\u001b[0m\u001b[33m\n",
      "\u001b[0m\u001b[33mWARNING: Retrying (Retry(total=1, connect=None, read=None, redirect=None, status=None)) after connection broken by 'SSLError(SSLCertVerificationError(1, '[SSL: CERTIFICATE_VERIFY_FAILED] certificate verify failed: unable to get local issuer certificate (_ssl.c:1129)'))': /simple/textpack/\u001b[0m\u001b[33m\n",
      "\u001b[0m\u001b[33mWARNING: Retrying (Retry(total=0, connect=None, read=None, redirect=None, status=None)) after connection broken by 'SSLError(SSLCertVerificationError(1, '[SSL: CERTIFICATE_VERIFY_FAILED] certificate verify failed: unable to get local issuer certificate (_ssl.c:1129)'))': /simple/textpack/\u001b[0m\u001b[33m\n",
      "\u001b[0mCould not fetch URL https://pypi.org/simple/textpack/: There was a problem confirming the ssl certificate: HTTPSConnectionPool(host='pypi.org', port=443): Max retries exceeded with url: /simple/textpack/ (Caused by SSLError(SSLCertVerificationError(1, '[SSL: CERTIFICATE_VERIFY_FAILED] certificate verify failed: unable to get local issuer certificate (_ssl.c:1129)'))) - skipping\n",
      "Requirement already satisfied: pandas in /Users/ben.drury/opt/anaconda3/lib/python3.9/site-packages (from textpack) (1.3.4)\n",
      "Requirement already satisfied: sklearn in /Users/ben.drury/opt/anaconda3/lib/python3.9/site-packages (from textpack) (0.0)\n",
      "Requirement already satisfied: sparse-dot-topn in /Users/ben.drury/opt/anaconda3/lib/python3.9/site-packages (from textpack) (0.3.1)\n",
      "Requirement already satisfied: numpy in /Users/ben.drury/opt/anaconda3/lib/python3.9/site-packages (from textpack) (1.19.5)\n",
      "Requirement already satisfied: cython in /Users/ben.drury/opt/anaconda3/lib/python3.9/site-packages (from textpack) (0.29.30)\n",
      "Requirement already satisfied: scipy in /Users/ben.drury/opt/anaconda3/lib/python3.9/site-packages (from textpack) (1.8.0)\n",
      "Requirement already satisfied: python-dateutil>=2.7.3 in /Users/ben.drury/opt/anaconda3/lib/python3.9/site-packages (from pandas->textpack) (2.8.2)\n",
      "Requirement already satisfied: pytz>=2017.3 in /Users/ben.drury/opt/anaconda3/lib/python3.9/site-packages (from pandas->textpack) (2021.3)\n",
      "Requirement already satisfied: scikit-learn in /Users/ben.drury/opt/anaconda3/lib/python3.9/site-packages (from sklearn->textpack) (1.0.2)\n",
      "Requirement already satisfied: setuptools>=42 in /Users/ben.drury/opt/anaconda3/lib/python3.9/site-packages (from sparse-dot-topn->textpack) (62.3.2)\n",
      "Requirement already satisfied: six>=1.5 in /Users/ben.drury/opt/anaconda3/lib/python3.9/site-packages (from python-dateutil>=2.7.3->pandas->textpack) (1.15.0)\n",
      "Requirement already satisfied: threadpoolctl>=2.0.0 in /Users/ben.drury/opt/anaconda3/lib/python3.9/site-packages (from scikit-learn->sklearn->textpack) (2.2.0)\n",
      "Requirement already satisfied: joblib>=0.11 in /Users/ben.drury/opt/anaconda3/lib/python3.9/site-packages (from scikit-learn->sklearn->textpack) (1.1.0)\n",
      "Could not fetch URL https://pypi.org/simple/pip/: There was a problem confirming the ssl certificate: HTTPSConnectionPool(host='pypi.org', port=443): Max retries exceeded with url: /simple/pip/ (Caused by SSLError(SSLCertVerificationError(1, '[SSL: CERTIFICATE_VERIFY_FAILED] certificate verify failed: unable to get local issuer certificate (_ssl.c:1129)'))) - skipping\n",
      "\u001b[33mWARNING: There was an error checking the latest version of pip.\u001b[0m\u001b[33m\n",
      "\u001b[0m"
     ]
    }
   ],
   "source": [
    "!pip install -U textpack"
   ]
  },
  {
   "cell_type": "code",
   "execution_count": null,
   "id": "890eab62-971e-4bb3-bcbe-6beaf69b34c1",
   "metadata": {},
   "outputs": [],
   "source": []
  }
 ],
 "metadata": {
  "kernelspec": {
   "display_name": "Python 3 (ipykernel)",
   "language": "python",
   "name": "python3"
  },
  "language_info": {
   "codemirror_mode": {
    "name": "ipython",
    "version": 3
   },
   "file_extension": ".py",
   "mimetype": "text/x-python",
   "name": "python",
   "nbconvert_exporter": "python",
   "pygments_lexer": "ipython3",
   "version": "3.9.7"
  }
 },
 "nbformat": 4,
 "nbformat_minor": 5
}
