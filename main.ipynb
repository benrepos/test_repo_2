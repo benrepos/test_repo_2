{
 "cells": [
  {
   "cell_type": "code",
   "execution_count": 1,
   "id": "e0c59501-1738-4642-b8d3-667410d18f4c",
   "metadata": {},
   "outputs": [],
   "source": [
    "#abc"
   ]
  },
  {
   "cell_type": "code",
   "execution_count": 1,
   "id": "f8157850-f6b0-45bd-b340-4b5fed455324",
   "metadata": {},
   "outputs": [
    {
     "name": "stdout",
     "output_type": "stream",
     "text": [
      "Hello_world - this is being added for github\n"
     ]
    }
   ],
   "source": [
    "print(\"Hello_world - this is being added for github\")"
   ]
  },
  {
   "cell_type": "code",
   "execution_count": null,
   "id": "a08f1634-883b-4343-9fc4-f2aa30387816",
   "metadata": {},
   "outputs": [],
   "source": [
    "#my. new one"
   ]
  },
  {
   "cell_type": "code",
   "execution_count": null,
   "id": "2de16e38-1c26-413b-a557-9186b0af78e3",
   "metadata": {},
   "outputs": [],
   "source": []
  },
  {
   "cell_type": "code",
   "execution_count": null,
   "id": "51fdd4db-edc2-436f-ade7-9aef9b79a0c3",
   "metadata": {},
   "outputs": [],
   "source": [
    "#yo"
   ]
  }
 ],
 "metadata": {
  "kernelspec": {
   "display_name": "Python 3 (ipykernel)",
   "language": "python",
   "name": "python3"
  },
  "language_info": {
   "codemirror_mode": {
    "name": "ipython",
    "version": 3
   },
   "file_extension": ".py",
   "mimetype": "text/x-python",
   "name": "python",
   "nbconvert_exporter": "python",
   "pygments_lexer": "ipython3",
   "version": "3.9.7"
  }
 },
 "nbformat": 4,
 "nbformat_minor": 5
}
